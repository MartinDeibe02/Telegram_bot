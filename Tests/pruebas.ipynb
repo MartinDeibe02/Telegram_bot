{
 "cells": [
  {
   "cell_type": "markdown",
   "metadata": {},
   "source": [
    "# Pruebas"
   ]
  },
  {
   "cell_type": "markdown",
   "metadata": {},
   "source": [
    "### API METEOROLOGICA"
   ]
  },
  {
   "cell_type": "code",
   "execution_count": 2,
   "metadata": {},
   "outputs": [],
   "source": [
    "import requests"
   ]
  },
  {
   "cell_type": "code",
   "execution_count": 6,
   "metadata": {},
   "outputs": [
    {
     "name": "stdout",
     "output_type": "stream",
     "text": [
      "15 12 0\n"
     ]
    }
   ],
   "source": [
    "url_forecast = \"https://api.api-ninjas.com/v1/weather\"\n",
    "payload, headers = {\"city\":\"A Coruña\"}, {\"X-Api-Key\": \"token\"}\n",
    "response = requests.get(url_forecast, params=payload, headers=headers)\n",
    "max_temp, min_temp, cloud_pct = response.json()['max_temp'], response.json()['min_temp'], response.json()['cloud_pct']\n",
    "\n",
    "print(max_temp, min_temp, cloud_pct)\n"
   ]
  },
  {
   "cell_type": "markdown",
   "metadata": {},
   "source": [
    "### API. Imaxe do día"
   ]
  },
  {
   "cell_type": "code",
   "execution_count": 32,
   "metadata": {},
   "outputs": [
    {
     "name": "stdout",
     "output_type": "stream",
     "text": [
      "The Pleiades: Seven Dusty Sisters The well-known Pleiades star cluster is slowly destroying part of a passing cloud of gas and dust. The Pleiades is the brightest open cluster of stars on Earth's sky and can be seen from almost any northerly location with the unaided eye.  Over the past 100,000 years, a field of gas and dust is moving by chance right through the Pleiades star cluster and is causing a strong reaction between the stars and dust. The passing cloud might be part of the Radcliffe wave, a newly discovered structure of gas and dust connecting several regions of star formation in the nearby part of our Milky Way galaxy.  Pressure from the stars' light significantly repels the dust in the surrounding blue reflection nebula, with smaller dust particles being repelled more strongly.  A short-term result is that parts of the dust cloud have become filamentary and stratified. The featured deep image incorporates nearly 9 hours of exposure and was captured from Utah Desert Remote Observatory in Utah, USA, last year. https://apod.nasa.gov/apod/image/2401/Pleiades_Stocks_2048.jpg\n"
     ]
    }
   ],
   "source": [
    "url_nasa = \"https://api.nasa.gov/planetary/apod\"\n",
    "payload = {\"api_key\": \"token\"}\n",
    "response = requests.get(url_nasa, params=payload)\n",
    "url_apod, desc_apod, title = response.json()['hdurl'], response.json()['explanation'], response.json()['title']\n",
    "\n",
    "print(title, desc_apod, url_apod)"
   ]
  },
  {
   "cell_type": "markdown",
   "metadata": {},
   "source": [
    "### Chistes"
   ]
  },
  {
   "cell_type": "code",
   "execution_count": 31,
   "metadata": {},
   "outputs": [
    {
     "data": {
      "text/plain": [
       "'¿Por qué C consigue todas las chicas y Java no tiene ninguna?\\n\\nPorque C no las trata como objetos.'"
      ]
     },
     "execution_count": 31,
     "metadata": {},
     "output_type": "execute_result"
    }
   ],
   "source": [
    "url_jokes = \"https://v2.jokeapi.dev/joke/Any?lang=es&format=txt\"\n",
    "payload = {\"lang\" : \"es\", \"format\": \"txt\"}\n",
    "response = requests.get(url_jokes , params=payload)\n",
    "response.text\n"
   ]
  }
 ],
 "metadata": {
  "kernelspec": {
   "display_name": "sistemas",
   "language": "python",
   "name": "python3"
  },
  "language_info": {
   "codemirror_mode": {
    "name": "ipython",
    "version": 3
   },
   "file_extension": ".py",
   "mimetype": "text/x-python",
   "name": "python",
   "nbconvert_exporter": "python",
   "pygments_lexer": "ipython3",
   "version": "3.12.0"
  }
 },
 "nbformat": 4,
 "nbformat_minor": 2
}
