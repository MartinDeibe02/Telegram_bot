{
 "cells": [
  {
   "cell_type": "markdown",
   "metadata": {},
   "source": [
    "# Pruebas"
   ]
  },
  {
   "cell_type": "markdown",
   "metadata": {},
   "source": [
    "### API METEOROLOGICA"
   ]
  },
  {
   "cell_type": "code",
   "execution_count": 1,
   "metadata": {},
   "outputs": [],
   "source": [
    "import requests"
   ]
  },
  {
   "cell_type": "code",
   "execution_count": 6,
   "metadata": {},
   "outputs": [
    {
     "name": "stdout",
     "output_type": "stream",
     "text": [
      "15 12 0\n"
     ]
    }
   ],
   "source": [
    "url_forecast = \"https://api.api-ninjas.com/v1/weather\"\n",
    "payload, headers = {\"city\":\"A Coruña\"}, {\"X-Api-Key\": \"token\"}\n",
    "response = requests.get(url_forecast, params=payload, headers=headers)\n",
    "max_temp, min_temp, cloud_pct = response.json()['max_temp'], response.json()['min_temp'], response.json()['cloud_pct']\n",
    "\n",
    "print(max_temp, min_temp, cloud_pct)\n"
   ]
  },
  {
   "cell_type": "markdown",
   "metadata": {},
   "source": [
    "### API. Imaxe do día"
   ]
  },
  {
   "cell_type": "code",
   "execution_count": 32,
   "metadata": {},
   "outputs": [
    {
     "name": "stdout",
     "output_type": "stream",
     "text": [
      "The Pleiades: Seven Dusty Sisters The well-known Pleiades star cluster is slowly destroying part of a passing cloud of gas and dust. The Pleiades is the brightest open cluster of stars on Earth's sky and can be seen from almost any northerly location with the unaided eye.  Over the past 100,000 years, a field of gas and dust is moving by chance right through the Pleiades star cluster and is causing a strong reaction between the stars and dust. The passing cloud might be part of the Radcliffe wave, a newly discovered structure of gas and dust connecting several regions of star formation in the nearby part of our Milky Way galaxy.  Pressure from the stars' light significantly repels the dust in the surrounding blue reflection nebula, with smaller dust particles being repelled more strongly.  A short-term result is that parts of the dust cloud have become filamentary and stratified. The featured deep image incorporates nearly 9 hours of exposure and was captured from Utah Desert Remote Observatory in Utah, USA, last year. https://apod.nasa.gov/apod/image/2401/Pleiades_Stocks_2048.jpg\n"
     ]
    }
   ],
   "source": [
    "url_nasa = \"https://api.nasa.gov/planetary/apod\"\n",
    "payload = {\"api_key\": \"token\"}\n",
    "response = requests.get(url_nasa, params=payload)\n",
    "url_apod, desc_apod, title = response.json()['hdurl'], response.json()['explanation'], response.json()['title']\n",
    "\n",
    "print(title, desc_apod, url_apod)"
   ]
  },
  {
   "cell_type": "markdown",
   "metadata": {},
   "source": [
    "### Chistes"
   ]
  },
  {
   "cell_type": "code",
   "execution_count": 31,
   "metadata": {},
   "outputs": [
    {
     "data": {
      "text/plain": [
       "'¿Por qué C consigue todas las chicas y Java no tiene ninguna?\\n\\nPorque C no las trata como objetos.'"
      ]
     },
     "execution_count": 31,
     "metadata": {},
     "output_type": "execute_result"
    }
   ],
   "source": [
    "url_jokes = \"https://v2.jokeapi.dev/joke/Any?lang=es&format=txt\"\n",
    "payload = {\"lang\" : \"es\", \"format\": \"txt\"}\n",
    "response = requests.get(url_jokes , params=payload)\n",
    "response.text\n"
   ]
  },
  {
   "cell_type": "markdown",
   "metadata": {},
   "source": [
    "### BiciCoruna"
   ]
  },
  {
   "cell_type": "code",
   "execution_count": 82,
   "metadata": {},
   "outputs": [
    {
     "name": "stdout",
     "output_type": "stream",
     "text": [
      "{'station_id': '4', 'name': 'Aquarium', 'physical_configuration': 'ELECTRICBIKESTATION', 'lat': 43.3812011, 'lon': -8.4099486, 'altitude': 0.0, 'address': 'P.º Marítimo Alcalde Francisco Vázquez, 59', 'post_code': '15002', 'capacity': 15, 'is_charging_station': True, 'geofenced_capacity': 0, 'rental_methods': ['KEY', 'TRANSITCARD', 'CREDITCARD', 'PHONE'], 'is_virtual_station': False, 'groups': [], 'nearby_distance': 500.0, '_bluetooth_id': '3063', '_ride_code_support': True, 'rental_uris': {}}\n",
      "{'station_id': '4', 'num_bikes_available': 5, 'num_bikes_available_types': {'mechanical': 5, 'ebike': 0}, 'num_bikes_disabled': 0, 'num_docks_available': 10, 'num_docks_disabled': 0, 'last_reported': 1706628538, 'is_charging_station': True, 'status': 'IN_SERVICE', 'is_installed': 1, 'is_renting': 1, 'is_returning': 1, 'traffic': None}\n",
      "Informacion estacion: \n",
      "                  ('Aquarium', 'P.º Marítimo Alcalde Francisco Vázquez, 59', '15002') \n",
      "Informacion bicis: \n",
      "                  DISPONIBLES -> 5,\n",
      "                  DESACTIVADOS -> 0,\n",
      "                  NORMALES -> 5,\n",
      "                  ELECTRICAS -> 0\n",
      "Docks disponibles:\n",
      "                  DISPONIBLES 10\n",
      "                  DESACTIVADOS 0\n"
     ]
    }
   ],
   "source": [
    "station_url = \"https://acoruna.publicbikesystem.net/customer/gbfs/v2/en/station_information\"\n",
    "bike_info = \"https://acoruna.publicbikesystem.net/customer/ube/gbfs/v1/en/station_status\"\n",
    "\n",
    "response_station = requests.get(station_url)\n",
    "data_station = response.json()\n",
    "\n",
    "target_station = \"Aquarium\"\n",
    "found_station = None\n",
    "\n",
    "for station in data_station.get(\"data\").get(\"stations\"):\n",
    "    if station.get(\"name\").strip() == target_station:\n",
    "        found_station = station\n",
    "        break\n",
    "\n",
    "if found_station:\n",
    "    reponse_bike_info = requests.get(bike_info)\n",
    "    data_bike = reponse_bike_info.json()\n",
    "    \n",
    "    for station_bike in data_bike[\"data\"][\"stations\"]:\n",
    "        if found_station['station_id'] == station_bike['station_id']:\n",
    "            print(found_station)\n",
    "            print(station_bike)\n",
    "\n",
    "            print(f\"\"\"Informacion estacion: \n",
    "                  {found_station['name'], found_station['address'],found_station['post_code']} \n",
    "Informacion bicis: \n",
    "                  DISPONIBLES -> {station_bike['num_bikes_available']},\n",
    "                  DESACTIVADOS -> {station_bike['num_bikes_disabled']},\n",
    "                  NORMALES -> {station_bike[\"num_bikes_available_types\"]['mechanical']},\n",
    "                  ELECTRICAS -> {station_bike[\"num_bikes_available_types\"]['ebike']}\n",
    "Docks disponibles:\n",
    "                  DISPONIBLES {station_bike['num_docks_available']}\n",
    "                  DESACTIVADOS {station_bike['num_docks_disabled']}\"\"\")\n",
    "\n",
    "else:\n",
    "    print(f\"No se encontró ninguna estación {target_station}.\")\n",
    "\n",
    "\n"
   ]
  }
 ],
 "metadata": {
  "kernelspec": {
   "display_name": "sistemas",
   "language": "python",
   "name": "python3"
  },
  "language_info": {
   "codemirror_mode": {
    "name": "ipython",
    "version": 3
   },
   "file_extension": ".py",
   "mimetype": "text/x-python",
   "name": "python",
   "nbconvert_exporter": "python",
   "pygments_lexer": "ipython3",
   "version": "3.12.1"
  }
 },
 "nbformat": 4,
 "nbformat_minor": 2
}
