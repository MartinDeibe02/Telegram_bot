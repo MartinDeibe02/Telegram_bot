{
 "cells": [
  {
   "cell_type": "markdown",
   "metadata": {},
   "source": [
    "# Pruebas"
   ]
  },
  {
   "cell_type": "markdown",
   "metadata": {},
   "source": [
    "### API METEOROLOGICA"
   ]
  },
  {
   "cell_type": "code",
   "execution_count": 11,
   "metadata": {},
   "outputs": [],
   "source": [
    "import requests"
   ]
  },
  {
   "cell_type": "code",
   "execution_count": null,
   "metadata": {},
   "outputs": [],
   "source": [
    "# API NINJA\n",
    "url_forecast = \"https://api.api-ninjas.com/v1/geocoding\"\n",
    "payload, headers = {\"city\":\"A Coruña\"}, {\"X-Api-Key\": \"token\"}\n",
    "response = requests.get(url_forecast, params=payload, headers=headers)\n",
    "lat, lon = response.json()[0]['latitude'], response.json()[0]['longitude']\n",
    "\n",
    "# OPENWEATHER\n",
    "\n",
    "url_openweather = \"https://api.openweathermap.org/data/2.5/weather\"\n",
    "payload, headers = {\"lon\":lon, \"lat\":lat}, {\"X-Api-Key\": \"token\"}\n",
    "response = requests.get(url_forecast, params=payload, headers=headers)\n",
    "response.json()\n"
   ]
  },
  {
   "cell_type": "markdown",
   "metadata": {},
   "source": [
    "### API. Imaxe do día"
   ]
  },
  {
   "cell_type": "code",
   "execution_count": 32,
   "metadata": {},
   "outputs": [
    {
     "name": "stdout",
     "output_type": "stream",
     "text": [
      "The Pleiades: Seven Dusty Sisters The well-known Pleiades star cluster is slowly destroying part of a passing cloud of gas and dust. The Pleiades is the brightest open cluster of stars on Earth's sky and can be seen from almost any northerly location with the unaided eye.  Over the past 100,000 years, a field of gas and dust is moving by chance right through the Pleiades star cluster and is causing a strong reaction between the stars and dust. The passing cloud might be part of the Radcliffe wave, a newly discovered structure of gas and dust connecting several regions of star formation in the nearby part of our Milky Way galaxy.  Pressure from the stars' light significantly repels the dust in the surrounding blue reflection nebula, with smaller dust particles being repelled more strongly.  A short-term result is that parts of the dust cloud have become filamentary and stratified. The featured deep image incorporates nearly 9 hours of exposure and was captured from Utah Desert Remote Observatory in Utah, USA, last year. https://apod.nasa.gov/apod/image/2401/Pleiades_Stocks_2048.jpg\n"
     ]
    }
   ],
   "source": [
    "url_nasa = \"https://api.nasa.gov/planetary/apod\"\n",
    "payload = {\"api_key\": \"token\"}\n",
    "response = requests.get(url_nasa, params=payload)\n",
    "url_apod, desc_apod, title = response.json()['hdurl'], response.json()['explanation'], response.json()['title']\n",
    "\n",
    "print(title, desc_apod, url_apod)"
   ]
  },
  {
   "cell_type": "markdown",
   "metadata": {},
   "source": [
    "### Chistes"
   ]
  },
  {
   "cell_type": "code",
   "execution_count": 31,
   "metadata": {},
   "outputs": [
    {
     "data": {
      "text/plain": [
       "'¿Por qué C consigue todas las chicas y Java no tiene ninguna?\\n\\nPorque C no las trata como objetos.'"
      ]
     },
     "execution_count": 31,
     "metadata": {},
     "output_type": "execute_result"
    }
   ],
   "source": [
    "url_jokes = \"https://v2.jokeapi.dev/joke/Any?lang=es&format=txt\"\n",
    "payload = {\"lang\" : \"es\", \"format\": \"txt\"}\n",
    "response = requests.get(url_jokes , params=payload)\n",
    "response.text\n"
   ]
  },
  {
   "cell_type": "markdown",
   "metadata": {},
   "source": [
    "### BiciCoruna"
   ]
  },
  {
   "cell_type": "code",
   "execution_count": 21,
   "metadata": {},
   "outputs": [
    {
     "name": "stdout",
     "output_type": "stream",
     "text": [
      "Informacion estacion: \n",
      "                Novo Mesoiro\n",
      "                Avenida Novo Mesoiro\n",
      "                15190 \n",
      "Informacion bicis: \n",
      "                  DISPONIBLES -> 3,\n",
      "                  DESACTIVADOS -> 0,\n",
      "                  NORMALES -> 2,\n",
      "                  ELECTRICAS -> 1\n",
      "Docks disponibles:\n",
      "                  DISPONIBLES 20\n",
      "                  DESACTIVADOS 0\n"
     ]
    }
   ],
   "source": [
    "station_url = \"https://acoruna.publicbikesystem.net/customer/gbfs/v2/en/station_information\"\n",
    "bike_info = \"https://acoruna.publicbikesystem.net/customer/ube/gbfs/v1/en/station_status\"\n",
    "\n",
    "response_station = requests.get(station_url)\n",
    "data_station = response_station.json()\n",
    "\n",
    "target_station = \"novo mesoiro\"\n",
    "found_station = None\n",
    "\n",
    "for station in data_station[\"data\"][\"stations\"]:\n",
    "    if station.get(\"name\").strip().lower() == target_station.lower():\n",
    "        found_station = station\n",
    "        break\n",
    "\n",
    "if found_station:\n",
    "    reponse_bike_info = requests.get(bike_info)\n",
    "    data_bike = reponse_bike_info.json()\n",
    "    \n",
    "    for station_bike in data_bike[\"data\"][\"stations\"]:\n",
    "        if found_station['station_id'] == station_bike['station_id']:\n",
    "            \n",
    "\n",
    "            print(f\"\"\"Informacion estacion: \n",
    "                {found_station['name']}\n",
    "                {found_station['address']}\n",
    "                {found_station['post_code']} \n",
    "Informacion bicis: \n",
    "                  DISPONIBLES -> {station_bike['num_bikes_available']},\n",
    "                  DESACTIVADOS -> {station_bike['num_bikes_disabled']},\n",
    "                  NORMALES -> {station_bike[\"num_bikes_available_types\"]['mechanical']},\n",
    "                  ELECTRICAS -> {station_bike[\"num_bikes_available_types\"]['ebike']}\n",
    "Docks disponibles:\n",
    "                  DISPONIBLES {station_bike['num_docks_available']}\n",
    "                  DESACTIVADOS {station_bike['num_docks_disabled']}\"\"\")\n",
    "\n",
    "else:\n",
    "    print(f\"No se encontró ninguna estación {target_station}.\")\n",
    "\n",
    "\n"
   ]
  }
 ],
 "metadata": {
  "kernelspec": {
   "display_name": "sistemas",
   "language": "python",
   "name": "python3"
  },
  "language_info": {
   "codemirror_mode": {
    "name": "ipython",
    "version": 3
   },
   "file_extension": ".py",
   "mimetype": "text/x-python",
   "name": "python",
   "nbconvert_exporter": "python",
   "pygments_lexer": "ipython3",
   "version": "3.12.0"
  }
 },
 "nbformat": 4,
 "nbformat_minor": 2
}
