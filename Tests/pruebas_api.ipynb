{
 "cells": [
  {
   "cell_type": "markdown",
   "metadata": {},
   "source": [
    "# Pruebas"
   ]
  },
  {
   "cell_type": "markdown",
   "metadata": {},
   "source": [
    "### API METEOROLOGICA"
   ]
  },
  {
   "cell_type": "code",
   "execution_count": 2,
   "metadata": {},
   "outputs": [],
   "source": [
    "import requests\n",
    "import datetime "
   ]
  },
  {
   "cell_type": "code",
   "execution_count": 42,
   "metadata": {},
   "outputs": [],
   "source": [
    "\n",
    "\n",
    "url_openweather = \"https://api.openweathermap.org/data/2.5/weather\"\n",
    "payload = {'q':'A Coruña', 'appid': 'token','units': 'metric', 'lang':'es'}\n",
    "response = requests.get(url_openweather, params=payload)\n",
    "\n",
    "weather_data = response.json()['main']\n",
    "weather_description = response.json()['weather'][0]['description']\n",
    "sys_data = response.json()['sys']\n",
    "\n",
    "temp, temp_max, temp_min, temp_feel, humidity = weather_data['temp'], weather_data['temp_max'], weather_data['temp_min'], weather_data['feels_like'], weather_data['humidity']\n",
    "sunset, sunrise = datetime.datetime.fromtimestamp(sys_data['sunset']), datetime.datetime.fromtimestamp(sys_data['sunrise'])\n"
   ]
  },
  {
   "cell_type": "markdown",
   "metadata": {},
   "source": [
    "### API. Imaxe do día"
   ]
  },
  {
   "cell_type": "code",
   "execution_count": 32,
   "metadata": {},
   "outputs": [
    {
     "name": "stdout",
     "output_type": "stream",
     "text": [
      "The Pleiades: Seven Dusty Sisters The well-known Pleiades star cluster is slowly destroying part of a passing cloud of gas and dust. The Pleiades is the brightest open cluster of stars on Earth's sky and can be seen from almost any northerly location with the unaided eye.  Over the past 100,000 years, a field of gas and dust is moving by chance right through the Pleiades star cluster and is causing a strong reaction between the stars and dust. The passing cloud might be part of the Radcliffe wave, a newly discovered structure of gas and dust connecting several regions of star formation in the nearby part of our Milky Way galaxy.  Pressure from the stars' light significantly repels the dust in the surrounding blue reflection nebula, with smaller dust particles being repelled more strongly.  A short-term result is that parts of the dust cloud have become filamentary and stratified. The featured deep image incorporates nearly 9 hours of exposure and was captured from Utah Desert Remote Observatory in Utah, USA, last year. https://apod.nasa.gov/apod/image/2401/Pleiades_Stocks_2048.jpg\n"
     ]
    }
   ],
   "source": [
    "url_nasa = \"https://api.nasa.gov/planetary/apod\"\n",
    "payload = {\"api_key\": \"token\"}\n",
    "response = requests.get(url_nasa, params=payload)\n",
    "url_apod, desc_apod, title = response.json()['hdurl'], response.json()['explanation'], response.json()['title']\n",
    "\n",
    "print(title, desc_apod, url_apod)"
   ]
  },
  {
   "cell_type": "markdown",
   "metadata": {},
   "source": [
    "### Chistes"
   ]
  },
  {
   "cell_type": "code",
   "execution_count": 64,
   "metadata": {},
   "outputs": [
    {
     "data": {
      "text/plain": [
       "'No te despedirán del trabajo, si nunca comentas tu código y además eres el único que sabe cómo funciona'"
      ]
     },
     "execution_count": 64,
     "metadata": {},
     "output_type": "execute_result"
    }
   ],
   "source": [
    "url_jokes = \"https://v2.jokeapi.dev/joke/Any\"\n",
    "payload = {\"format\": \"json\", 'type':'single', 'lang':'es'}\n",
    "response = requests.get(url_jokes , params=payload)\n",
    "joke = response.json()['joke'].strip().replace(\"'\", \"\").replace('\\n', \"\")\n",
    "joke"
   ]
  },
  {
   "cell_type": "markdown",
   "metadata": {},
   "source": [
    "### BiciCoruna"
   ]
  },
  {
   "cell_type": "code",
   "execution_count": 68,
   "metadata": {},
   "outputs": [
    {
     "name": "stdout",
     "output_type": "stream",
     "text": [
      "Informacion estacion: \n",
      "                Novo Mesoiro\n",
      "                Avenida Novo Mesoiro\n",
      "                15190 \n",
      "Informacion bicis: \n",
      "                  DISPONIBLES -> 13,\n",
      "                  DESACTIVADOS -> 0,\n",
      "                  NORMALES -> 10,\n",
      "                  ELECTRICAS -> 3\n",
      "Docks disponibles:\n",
      "                  DISPONIBLES 10\n",
      "                  DESACTIVADOS 0\n"
     ]
    },
    {
     "data": {
      "text/plain": [
       "['Plaza De Pontevedra',\n",
       " 'Aquarium',\n",
       " 'Torre de Hércules',\n",
       " 'Puerto - Palexco',\n",
       " 'Obelisco',\n",
       " 'Estación Autobuses',\n",
       " 'Estación Tren',\n",
       " 'Mirador de los Castros',\n",
       " 'Los Rosales',\n",
       " 'Plaza de Conchiñas',\n",
       " 'Plaza de Vigo',\n",
       " 'Plaza de Tabacos',\n",
       " 'Aparcamiento Matogrande',\n",
       " 'Casa de Sol',\n",
       " 'Campo de Marte',\n",
       " 'Campo de La Leña (Plaza De España)',\n",
       " 'Plaza de San Rosendo',\n",
       " 'Paseo de Los Puentes',\n",
       " 'Centro Cívico Monelos',\n",
       " 'Puerta Real',\n",
       " 'Cd Castrillón',\n",
       " 'Playa de Oza',\n",
       " 'Pablo Picasso',\n",
       " 'Adormideras',\n",
       " 'Ventorrillo',\n",
       " 'Agrela',\n",
       " 'Marineda',\n",
       " 'Novo Mesoiro',\n",
       " 'Barrio de las Flores',\n",
       " 'Parque de Eirís',\n",
       " 'Expocoruna',\n",
       " 'Maestranza',\n",
       " 'Ciudad Escolar',\n",
       " 'Campus Elviña 2',\n",
       " 'Campus Zapateira',\n",
       " 'Campus Oza',\n",
       " 'Orillamar',\n",
       " 'Praza de Ourense',\n",
       " 'Hospital Abente y Lago',\n",
       " 'Mercado de Monte Alto',\n",
       " 'Ágora',\n",
       " 'Parque del Agra',\n",
       " 'Rosales-Labañou',\n",
       " 'Plaza Recife',\n",
       " 'Parque de Oza',\n",
       " 'Cuatro Caminos',\n",
       " 'Chuac',\n",
       " 'Centro deportivo Elviña',\n",
       " 'Avenida de Arteixo',\n",
       " 'Parque de Santa Margarita',\n",
       " 'Plaza de Portugal',\n",
       " 'Millenium',\n",
       " 'Casa del Agua']"
      ]
     },
     "execution_count": 68,
     "metadata": {},
     "output_type": "execute_result"
    }
   ],
   "source": [
    "station_url = \"https://acoruna.publicbikesystem.net/customer/gbfs/v2/en/station_information\"\n",
    "bike_info = \"https://acoruna.publicbikesystem.net/customer/ube/gbfs/v1/en/station_status\"\n",
    "\n",
    "response_station = requests.get(station_url)\n",
    "data_station = response_station.json()\n",
    "\n",
    "target_station = \"novo mesoiro\"\n",
    "found_station = None\n",
    "\n",
    "for station in data_station[\"data\"][\"stations\"]:\n",
    "    if station.get(\"name\").strip().lower() == target_station.lower():\n",
    "        found_station = station\n",
    "        break\n",
    "\n",
    "if found_station:\n",
    "    reponse_bike_info = requests.get(bike_info)\n",
    "    data_bike = reponse_bike_info.json()\n",
    "    \n",
    "    for station_bike in data_bike[\"data\"][\"stations\"]:\n",
    "        if found_station['station_id'] == station_bike['station_id']:\n",
    "            \n",
    "\n",
    "            print(f\"\"\"Informacion estacion: \n",
    "                {found_station['name']}\n",
    "                {found_station['address']}\n",
    "                {found_station['post_code']} \n",
    "Informacion bicis: \n",
    "                  DISPONIBLES -> {station_bike['num_bikes_available']},\n",
    "                  DESACTIVADOS -> {station_bike['num_bikes_disabled']},\n",
    "                  NORMALES -> {station_bike[\"num_bikes_available_types\"]['mechanical']},\n",
    "                  ELECTRICAS -> {station_bike[\"num_bikes_available_types\"]['ebike']}\n",
    "Docks disponibles:\n",
    "                  DISPONIBLES {station_bike['num_docks_available']}\n",
    "                  DESACTIVADOS {station_bike['num_docks_disabled']}\"\"\")\n",
    "\n",
    "else:\n",
    "    print(f\"No se encontró ninguna estación {target_station}.\")\n",
    "\n",
    "station_list = [station.get(\"name\").strip() for station in data_station[\"data\"][\"stations\"]]\n",
    "station_list"
   ]
  }
 ],
 "metadata": {
  "kernelspec": {
   "display_name": "sistemas",
   "language": "python",
   "name": "python3"
  },
  "language_info": {
   "codemirror_mode": {
    "name": "ipython",
    "version": 3
   },
   "file_extension": ".py",
   "mimetype": "text/x-python",
   "name": "python",
   "nbconvert_exporter": "python",
   "pygments_lexer": "ipython3",
   "version": "3.12.1"
  }
 },
 "nbformat": 4,
 "nbformat_minor": 2
}
